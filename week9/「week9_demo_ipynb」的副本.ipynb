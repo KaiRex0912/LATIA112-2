{
  "nbformat": 4,
  "nbformat_minor": 0,
  "metadata": {
    "colab": {
      "provenance": []
    },
    "kernelspec": {
      "name": "python3",
      "display_name": "Python 3"
    },
    "language_info": {
      "name": "python"
    }
  },
  "cells": [
    {
      "cell_type": "code",
      "source": [
        "# Connetced yourself Cloud Storage\n",
        "from google.colab import drive\n",
        "drive.mount('/content/gdrive/', force_remount=True)\n",
        "\n",
        "import os\n",
        "os.chdir(\"/content/gdrive/My Drive/112_2_LATIA/week9/\")\n",
        "os.listdir()"
      ],
      "metadata": {
        "id": "dYFTeUjsl-3J",
        "colab": {
          "base_uri": "https://localhost:8080/"
        },
        "outputId": "bcc20ed4-fedc-4db6-a0ce-f098eb738fcd"
      },
      "execution_count": 3,
      "outputs": [
        {
          "output_type": "stream",
          "name": "stdout",
          "text": [
            "Mounted at /content/gdrive/\n"
          ]
        },
        {
          "output_type": "execute_result",
          "data": {
            "text/plain": [
              "[]"
            ]
          },
          "metadata": {},
          "execution_count": 3
        }
      ]
    },
    {
      "cell_type": "code",
      "source": [
        "%%shell\n",
        "# Ubuntu no longer distributes chromium-browser outside of snap\n",
        "#\n",
        "# Proposed solution: https://askubuntu.com/questions/1204571/how-to-install-chromium-without-snap\n",
        "\n",
        "# Add debian buster\n",
        "cat > /etc/apt/sources.list.d/debian.list <<'EOF'\n",
        "deb [arch=amd64 signed-by=/usr/share/keyrings/debian-buster.gpg] http://deb.debian.org/debian buster main\n",
        "deb [arch=amd64 signed-by=/usr/share/keyrings/debian-buster-updates.gpg] http://deb.debian.org/debian buster-updates main\n",
        "deb [arch=amd64 signed-by=/usr/share/keyrings/debian-security-buster.gpg] http://deb.debian.org/debian-security buster/updates main\n",
        "EOF\n",
        "\n",
        "# Add keys\n",
        "apt-key adv --keyserver keyserver.ubuntu.com --recv-keys DCC9EFBF77E11517\n",
        "apt-key adv --keyserver keyserver.ubuntu.com --recv-keys 648ACFD622F3D138\n",
        "apt-key adv --keyserver keyserver.ubuntu.com --recv-keys 112695A0E562B32A\n",
        "\n",
        "apt-key export 77E11517 | gpg --dearmour -o /usr/share/keyrings/debian-buster.gpg\n",
        "apt-key export 22F3D138 | gpg --dearmour -o /usr/share/keyrings/debian-buster-updates.gpg\n",
        "apt-key export E562B32A | gpg --dearmour -o /usr/share/keyrings/debian-security-buster.gpg\n",
        "\n",
        "# Prefer debian repo for chromium* packages only\n",
        "# Note the double-blank lines between entries\n",
        "cat > /etc/apt/preferences.d/chromium.pref << 'EOF'\n",
        "Package: *\n",
        "Pin: release a=eoan\n",
        "Pin-Priority: 500\n",
        "\n",
        "Package: *\n",
        "Pin: origin \"deb.debian.org\"\n",
        "Pin-Priority: 300\n",
        "\n",
        "\n",
        "Package: chromium*\n",
        "Pin: origin \"deb.debian.org\"\n",
        "Pin-Priority: 700\n",
        "EOF\n",
        "\n",
        "# Install chromium and chromium-driver\n",
        "apt-get update\n",
        "apt-get install chromium chromium-driver\n",
        "\n",
        "# Install selenium\n",
        "pip install selenium"
      ],
      "metadata": {
        "id": "9i3osar0vVms",
        "colab": {
          "base_uri": "https://localhost:8080/"
        },
        "outputId": "76df5861-5664-45d3-fd88-5009a7c6c9cf"
      },
      "execution_count": 4,
      "outputs": [
        {
          "output_type": "stream",
          "name": "stdout",
          "text": [
            "Warning: apt-key is deprecated. Manage keyring files in trusted.gpg.d instead (see apt-key(8)).\n",
            "Executing: /tmp/apt-key-gpghome.OYHJu8o6Tw/gpg.1.sh --keyserver keyserver.ubuntu.com --recv-keys DCC9EFBF77E11517\n",
            "gpg: key DCC9EFBF77E11517: \"Debian Stable Release Key (10/buster) <debian-release@lists.debian.org>\" not changed\n",
            "gpg: Total number processed: 1\n",
            "gpg:              unchanged: 1\n",
            "Warning: apt-key is deprecated. Manage keyring files in trusted.gpg.d instead (see apt-key(8)).\n",
            "Executing: /tmp/apt-key-gpghome.mBJpufJA0s/gpg.1.sh --keyserver keyserver.ubuntu.com --recv-keys 648ACFD622F3D138\n",
            "gpg: key DC30D7C23CBBABEE: \"Debian Archive Automatic Signing Key (10/buster) <ftpmaster@debian.org>\" not changed\n",
            "gpg: Total number processed: 1\n",
            "gpg:              unchanged: 1\n",
            "Warning: apt-key is deprecated. Manage keyring files in trusted.gpg.d instead (see apt-key(8)).\n",
            "Executing: /tmp/apt-key-gpghome.Bg1xAhykor/gpg.1.sh --keyserver keyserver.ubuntu.com --recv-keys 112695A0E562B32A\n",
            "gpg: key 4DFAB270CAA96DFA: \"Debian Security Archive Automatic Signing Key (10/buster) <ftpmaster@debian.org>\" not changed\n",
            "gpg: Total number processed: 1\n",
            "gpg:              unchanged: 1\n",
            "gpg: cannot open '/dev/tty': No such device or address\n",
            "Warning: apt-key is deprecated. Manage keyring files in trusted.gpg.d instead (see apt-key(8)).\n",
            "gpg: [stdout]: write error: Broken pipe\n",
            "gpg: filter_flush failed on close: Broken pipe\n",
            "gpg: cannot open '/dev/tty': No such device or address\n",
            "Warning: apt-key is deprecated. Manage keyring files in trusted.gpg.d instead (see apt-key(8)).\n",
            "gpg: [stdout]: write error: Broken pipe\n",
            "gpg: filter_flush failed on close: Broken pipe\n",
            "gpg: cannot open '/dev/tty': No such device or address\n",
            "Warning: apt-key is deprecated. Manage keyring files in trusted.gpg.d instead (see apt-key(8)).\n",
            "gpg: [stdout]: write error: Broken pipe\n",
            "gpg: filter_flush failed on close: Broken pipe\n",
            "Hit:1 http://deb.debian.org/debian buster InRelease\n",
            "Hit:2 http://deb.debian.org/debian buster-updates InRelease\n",
            "Hit:3 http://deb.debian.org/debian-security buster/updates InRelease\n",
            "Hit:4 https://cloud.r-project.org/bin/linux/ubuntu jammy-cran40/ InRelease\n",
            "Hit:5 https://developer.download.nvidia.com/compute/cuda/repos/ubuntu2204/x86_64  InRelease\n",
            "Hit:6 http://archive.ubuntu.com/ubuntu jammy InRelease\n",
            "Hit:7 http://archive.ubuntu.com/ubuntu jammy-updates InRelease\n",
            "Hit:8 http://security.ubuntu.com/ubuntu jammy-security InRelease\n",
            "Hit:9 http://archive.ubuntu.com/ubuntu jammy-backports InRelease\n",
            "Hit:10 https://ppa.launchpadcontent.net/c2d4u.team/c2d4u4.0+/ubuntu jammy InRelease\n",
            "Hit:11 https://ppa.launchpadcontent.net/deadsnakes/ppa/ubuntu jammy InRelease\n",
            "Hit:12 https://ppa.launchpadcontent.net/graphics-drivers/ppa/ubuntu jammy InRelease\n",
            "Hit:13 https://ppa.launchpadcontent.net/ubuntugis/ppa/ubuntu jammy InRelease\n",
            "Reading package lists... Done\n",
            "Reading package lists... Done\n",
            "Building dependency tree... Done\n",
            "Reading state information... Done\n",
            "chromium is already the newest version (90.0.4430.212-1~deb10u1).\n",
            "chromium-driver is already the newest version (90.0.4430.212-1~deb10u1).\n",
            "0 upgraded, 0 newly installed, 0 to remove and 44 not upgraded.\n",
            "Requirement already satisfied: selenium in /usr/local/lib/python3.10/dist-packages (4.19.0)\n",
            "Requirement already satisfied: urllib3[socks]<3,>=1.26 in /usr/local/lib/python3.10/dist-packages (from selenium) (2.0.7)\n",
            "Requirement already satisfied: trio~=0.17 in /usr/local/lib/python3.10/dist-packages (from selenium) (0.25.0)\n",
            "Requirement already satisfied: trio-websocket~=0.9 in /usr/local/lib/python3.10/dist-packages (from selenium) (0.11.1)\n",
            "Requirement already satisfied: certifi>=2021.10.8 in /usr/local/lib/python3.10/dist-packages (from selenium) (2024.2.2)\n",
            "Requirement already satisfied: typing_extensions>=4.9.0 in /usr/local/lib/python3.10/dist-packages (from selenium) (4.11.0)\n",
            "Requirement already satisfied: attrs>=23.2.0 in /usr/local/lib/python3.10/dist-packages (from trio~=0.17->selenium) (23.2.0)\n",
            "Requirement already satisfied: sortedcontainers in /usr/local/lib/python3.10/dist-packages (from trio~=0.17->selenium) (2.4.0)\n",
            "Requirement already satisfied: idna in /usr/local/lib/python3.10/dist-packages (from trio~=0.17->selenium) (3.6)\n",
            "Requirement already satisfied: outcome in /usr/local/lib/python3.10/dist-packages (from trio~=0.17->selenium) (1.3.0.post0)\n",
            "Requirement already satisfied: sniffio>=1.3.0 in /usr/local/lib/python3.10/dist-packages (from trio~=0.17->selenium) (1.3.1)\n",
            "Requirement already satisfied: exceptiongroup in /usr/local/lib/python3.10/dist-packages (from trio~=0.17->selenium) (1.2.0)\n",
            "Requirement already satisfied: wsproto>=0.14 in /usr/local/lib/python3.10/dist-packages (from trio-websocket~=0.9->selenium) (1.2.0)\n",
            "Requirement already satisfied: pysocks!=1.5.7,<2.0,>=1.5.6 in /usr/local/lib/python3.10/dist-packages (from urllib3[socks]<3,>=1.26->selenium) (1.7.1)\n",
            "Requirement already satisfied: h11<1,>=0.9.0 in /usr/local/lib/python3.10/dist-packages (from wsproto>=0.14->trio-websocket~=0.9->selenium) (0.14.0)\n"
          ]
        },
        {
          "output_type": "execute_result",
          "data": {
            "text/plain": []
          },
          "metadata": {},
          "execution_count": 4
        }
      ]
    },
    {
      "cell_type": "code",
      "source": [
        "!pip install selenium"
      ],
      "metadata": {
        "id": "S06re1LqRRfk",
        "colab": {
          "base_uri": "https://localhost:8080/"
        },
        "outputId": "1fd37867-0f87-442d-cbb3-cef0402d811a"
      },
      "execution_count": 5,
      "outputs": [
        {
          "output_type": "stream",
          "name": "stdout",
          "text": [
            "Requirement already satisfied: selenium in /usr/local/lib/python3.10/dist-packages (4.19.0)\n",
            "Requirement already satisfied: urllib3[socks]<3,>=1.26 in /usr/local/lib/python3.10/dist-packages (from selenium) (2.0.7)\n",
            "Requirement already satisfied: trio~=0.17 in /usr/local/lib/python3.10/dist-packages (from selenium) (0.25.0)\n",
            "Requirement already satisfied: trio-websocket~=0.9 in /usr/local/lib/python3.10/dist-packages (from selenium) (0.11.1)\n",
            "Requirement already satisfied: certifi>=2021.10.8 in /usr/local/lib/python3.10/dist-packages (from selenium) (2024.2.2)\n",
            "Requirement already satisfied: typing_extensions>=4.9.0 in /usr/local/lib/python3.10/dist-packages (from selenium) (4.11.0)\n",
            "Requirement already satisfied: attrs>=23.2.0 in /usr/local/lib/python3.10/dist-packages (from trio~=0.17->selenium) (23.2.0)\n",
            "Requirement already satisfied: sortedcontainers in /usr/local/lib/python3.10/dist-packages (from trio~=0.17->selenium) (2.4.0)\n",
            "Requirement already satisfied: idna in /usr/local/lib/python3.10/dist-packages (from trio~=0.17->selenium) (3.6)\n",
            "Requirement already satisfied: outcome in /usr/local/lib/python3.10/dist-packages (from trio~=0.17->selenium) (1.3.0.post0)\n",
            "Requirement already satisfied: sniffio>=1.3.0 in /usr/local/lib/python3.10/dist-packages (from trio~=0.17->selenium) (1.3.1)\n",
            "Requirement already satisfied: exceptiongroup in /usr/local/lib/python3.10/dist-packages (from trio~=0.17->selenium) (1.2.0)\n",
            "Requirement already satisfied: wsproto>=0.14 in /usr/local/lib/python3.10/dist-packages (from trio-websocket~=0.9->selenium) (1.2.0)\n",
            "Requirement already satisfied: pysocks!=1.5.7,<2.0,>=1.5.6 in /usr/local/lib/python3.10/dist-packages (from urllib3[socks]<3,>=1.26->selenium) (1.7.1)\n",
            "Requirement already satisfied: h11<1,>=0.9.0 in /usr/local/lib/python3.10/dist-packages (from wsproto>=0.14->trio-websocket~=0.9->selenium) (0.14.0)\n"
          ]
        }
      ]
    },
    {
      "cell_type": "markdown",
      "source": [
        "# 使用 CSS Selector\n",
        "\n",
        "請找出並列印 \"札根學習 Python 程式設計 - 176 個絕對想馬上跟著做的「超互動範例」\" 這本書的圖片網址與文本內容。\n",
        "\n"
      ],
      "metadata": {
        "id": "iiNTPe1W2Ldj"
      }
    },
    {
      "cell_type": "code",
      "execution_count": 7,
      "metadata": {
        "id": "utVHjIwWuVvS",
        "colab": {
          "base_uri": "https://localhost:8080/"
        },
        "outputId": "14138261-2093-4874-9390-5604998622d4"
      },
      "outputs": [
        {
          "output_type": "stream",
          "name": "stdout",
          "text": [
            "https://www.flag.com.tw/assets/img/bookpic/F9707.jpg\n",
            "---------------------------\n",
            "札根學習 Python 程式設計 - 176 個絕對想馬上跟著做的「超互動範例」\n"
          ]
        }
      ],
      "source": [
        "# 這段程式碼是使用子進程來執行pip安裝cssselect模組，並使用requests和lxml.html模組來解析網頁內容。\n",
        "\n",
        "\n",
        "# 導入sys模組，用於訪問系統相關的功能。\n",
        "import sys\n",
        "\n",
        "# 導入subprocess模組，用於建立和管理子進程，以執行命令行操作。\n",
        "import subprocess\n",
        "\n",
        "# 使用check_call函數執行指定的命令，該函數會等待命令完成並檢查返回碼。\n",
        "# 在這裡，指定的命令是一個列表，包含要在命令行中執行的命令以及相應的參數。其中：\n",
        "# -`sys.executable`提供Python解釋器的路徑，以確保在正確的環境中執行pip。\n",
        "# -`-m pip` 表示使用Python的pip模組。\n",
        "# -`install cssselect` 是指定要安裝的模組。\n",
        "subprocess.check_call([sys.executable, '-m', 'pip', 'install', 'cssselect'])\n",
        "\n",
        "# 導入requests函式庫，它是用於向網站發送HTTP請求以取得網頁資源的常用函式庫。\n",
        "import requests\n",
        "\n",
        "# 導入lxml函式庫中的html模組，用於解析HTML文件並建構ElementTree物件。\n",
        "from lxml import html\n",
        "\n",
        "# 發送一個GET請求到指定的URL（\"http://www.flag.com.tw/books/school_code_n_algo\"），\n",
        "# 並將回應儲存在變數r中。\n",
        "r = requests.get(\"http://www.flag.com.tw/books/school_code_n_algo\")\n",
        "\n",
        "# 使用lxml.html模組中的fromstring()函式將回應的HTML文本轉換為ElementTree物件，儲存在變數tree中。\n",
        "tree = html.fromstring(r.text)\n",
        "\n",
        "# 使用CSS選擇器來選擇特定的HTML元素。這裡選擇了第一個`<img>`元素，並將其儲存在tag_img中。\n",
        "tag_img = tree.cssselect(\"body > section.allbooks > table > tr:nth-child(10) > td:nth-child(3) > a > img\")[0]\n",
        "\n",
        "# 輸出圖片的URL。\n",
        "print(tag_img.attrib[\"src\"])\n",
        "print('---------------------------')\n",
        "\n",
        "# 使用CSS選擇器來選擇第一個`<p>`元素，並將其儲存在`tag_p`中。\n",
        "tag_p = tree.cssselect(\"body > section.allbooks > table > tr:nth-child(10) > td:nth-child(3) > a > p\")[0]\n",
        "\n",
        "# 輸出`tag_p`元素的文本內容為\n",
        "# 札根學習 Python 程式設計 - 176 個絕對想馬上跟著做的「超互動範例」。\n",
        "print(tag_p.text_content())"
      ]
    },
    {
      "cell_type": "markdown",
      "source": [
        "# 使用 XPath\n",
        "\n",
        "請找出並列印 \"ChatGPT✕Excel VBA 網路爬蟲與資料分析：使用生成式 AI 「重啟」你的 Excel 辦公室自動化\" 這本書的圖片網址與文本內容。"
      ],
      "metadata": {
        "id": "bW_9Ssmiy6Rq"
      }
    },
    {
      "cell_type": "code",
      "source": [
        "# 這段程式碼使用requests和lxml.html模組來解析網頁內容。\n",
        "\n",
        "\n",
        "# 導入requests函式庫，它是用於向網站發送HTTP請求以取得網頁資源的常用函式庫。\n",
        "import requests\n",
        "\n",
        "# 導入lxml函式庫中的html模組，用於解析HTML文件並建構ElementTree物件。\n",
        "from lxml import html\n",
        "\n",
        "# 發送一個GET請求到指定的URL（\"http://www.flag.com.tw/books/school_code_n_algo\"），\n",
        "# 並將回應儲在存變數r中。\n",
        "r = requests.get(\"http://www.flag.com.tw/books/school_code_n_algo\")\n",
        "\n",
        "# 使用lxml.html模組中的fromstring()函式將回應的HTML文本轉換為ElementTree物件，儲存在變數tree中。\n",
        "tree = html.fromstring(r.text)\n",
        "\n",
        "# 使用XPath表達式來選擇指定的HTML元素。這裡選擇第一個`<img>`元素，並將其儲存在`tag_img`中。\n",
        "tag_img = tree.xpath(\"/html/body/section[2]/table/tr[10]/td[3]/a/img\")[0]\n",
        "\n",
        "# 輸出圖片的URL。\n",
        "print(tag_img.attrib[\"src\"])\n",
        "print('---------------------------')\n",
        "\n",
        "tag_p = tree.xpath(\"/html/body/section[2]/table/tr[10]/td[3]/a/p\")[0]\n",
        "print(tag_p.text)\n"
      ],
      "metadata": {
        "id": "5ZDvXXqxy5Zr",
        "colab": {
          "base_uri": "https://localhost:8080/"
        },
        "outputId": "358118f1-0810-4679-87bf-510421e17519"
      },
      "execution_count": 9,
      "outputs": [
        {
          "output_type": "stream",
          "name": "stdout",
          "text": [
            "https://www.flag.com.tw/assets/img/bookpic/F9707.jpg\n",
            "---------------------------\n",
            "札根學習 Python 程式設計 - 176 個絕對想馬上跟著做的「超互動範例」\n"
          ]
        }
      ]
    },
    {
      "cell_type": "markdown",
      "source": [
        "# 使用 find_element & By_TAG_NAME\n",
        "\n",
        "找出並列印文本內容為\"程式設計與演算法\"。"
      ],
      "metadata": {
        "id": "BRBPbpcG2lv1"
      }
    },
    {
      "cell_type": "code",
      "source": [
        "# 這段程式碼是使用Selenium函式庫來控制Chrome瀏覽器，並從網頁中提取特定元素的文本內容。\n",
        "\n",
        "\n",
        "# 導入Selenium的webdriver模組，用於控制Chrome瀏覽器。\n",
        "from selenium import webdriver\n",
        "\n",
        "# 從Selenium函式庫的common.by模組中導入`By`，用於指定元素的定位方式。\n",
        "from selenium.webdriver.common.by import By\n",
        "\n",
        "# 建立ChromeOptions物件，這個物件用於設定Chrome瀏覽器的選項。\n",
        "chrome_options = webdriver.ChromeOptions()\n",
        "\n",
        "# 使用add_argument()方法添加--headless參數，使Chrome以headless模式運行，即在後台運行，不顯示GUI界面。\n",
        "chrome_options.add_argument('--headless')\n",
        "\n",
        "# 使用add_argument()方法添加--no-sandbox參數，這是一個必要的參數，用於解決在某些環境下的運行問題。\n",
        "chrome_options.add_argument('--no-sandbox')\n",
        "\n",
        "# 將 headless 屬性設置為 True。\n",
        "chrome_options.headless = True\n",
        "\n",
        "# 初始化Chrome WebDriver，並傳遞Chromedriver的路徑和選項。\n",
        "driver = webdriver.Chrome(options=chrome_options)\n",
        "\n",
        "# 設置隱式等待時間為10秒。隱式等待是在查找元素時的一種等待方式，\n",
        "# 如果WebDriver沒有找到元素，它會等待一定的時間再進行查找，直到超過設定的時間為止。\n",
        "driver.implicitly_wait(10)\n",
        "\n",
        "# 使用get方法訪問指定的URL，在此是\"https://www.flag.com.tw/books/school_code_n_algo\"。\n",
        "driver.get(\"https://www.flag.com.tw/books/school_code_n_algo\")\n",
        "\n",
        "# 使用Selenium的定位函數，使用find_element()方法按標籤名（TAG_NAME）查找指定的元素，在此是h2標籤。\n",
        "h2 = driver.find_element(By.TAG_NAME, \"h2\")\n",
        "\n",
        "# 輸出元素的文本內容。\n",
        "print(h2.text)\n"
      ],
      "metadata": {
        "id": "pbw5VBvs2mUN",
        "colab": {
          "base_uri": "https://localhost:8080/"
        },
        "outputId": "6f931a70-d1df-4b93-d592-0f8feb9cceca"
      },
      "execution_count": 15,
      "outputs": [
        {
          "output_type": "stream",
          "name": "stdout",
          "text": [
            "程式設計與演算法\n"
          ]
        }
      ]
    },
    {
      "cell_type": "markdown",
      "source": [
        "# 使用 find_element & By_CLASS_NAME\n",
        "\n",
        "找出並列印文本內容為\"程式設計與演算法\"。"
      ],
      "metadata": {
        "id": "7Y3t_vwT3VHS"
      }
    },
    {
      "cell_type": "code",
      "source": [
        "# 這段程式碼是使用Selenium函式庫來控制Chrome瀏覽器，並從網頁中提取特定元素的文本內容。\n",
        "\n",
        "\n",
        "# 導入Selenium的webdriver模組，用於控制Chrome瀏覽器。\n",
        "from selenium import webdriver\n",
        "\n",
        "# 從Selenium函式庫的common.by模組中導入`By`，用於指定元素的定位方式。\n",
        "from selenium.webdriver.common.by import By\n",
        "\n",
        "# 建立ChromeOptions物件，這個物件用於設定Chrome瀏覽器的選項。\n",
        "chrome_options = webdriver.ChromeOptions()\n",
        "\n",
        "# 使用add_argument()方法添加--headless參數，使Chrome以headless模式運行，即在後台運行，不顯示GUI界面。\n",
        "chrome_options.add_argument('--headless')\n",
        "\n",
        "# 使用add_argument()方法添加--no-sandbox參數，這是一個必要的參數，用於解決在某些環境下的運行問題。\n",
        "chrome_options.add_argument('--no-sandbox')\n",
        "\n",
        "# 將 headless 屬性設置為 True。\n",
        "chrome_options.headless = True\n",
        "\n",
        "# 初始化Chrome WebDriver，並傳遞Chromedriver的路徑和選項。\n",
        "driver = webdriver.Chrome(options=chrome_options)\n",
        "\n",
        "# 設置隱式等待時間為10秒。隱式等待是在查找元素時的一種等待方式，\n",
        "# 如果WebDriver沒有找到元素，它會等待一定的時間再進行查找，直到超過設定的時間為止。\n",
        "driver.implicitly_wait(10)\n",
        "\n",
        "# 使用get方法訪問指定的URL，在此是\"https://www.flag.com.tw/books/school_code_n_algo\"。\n",
        "driver.get(\"https://www.flag.com.tw/books/school_code_n_algo\")\n",
        "\n",
        "# 使用find_element()方法按類別名稱（CLASS_NAME）查找指定的元素，在此是`rwd-table`。\n",
        "p = driver.find_element(By.CLASS_NAME, \"rwd-table\")\n",
        "\n",
        "# 輸出p元素的文本內容。\n",
        "print(p.text)\n",
        "\n",
        "# 這個方法會關閉WebDriver並結束瀏覽器進程。這是為了確保在使用完瀏覽器後，程式可以正確地退出。\n",
        "driver.quit()"
      ],
      "metadata": {
        "id": "inU-ie0T3ZAh",
        "colab": {
          "base_uri": "https://localhost:8080/"
        },
        "outputId": "475e675d-c87d-4e84-8895-b321e9917029"
      },
      "execution_count": 21,
      "outputs": [
        {
          "output_type": "stream",
          "name": "stdout",
          "text": [
            "新觀念 Visual C# 程式設計範例教本 第六版\n",
            "ChatGPT 開發手冊 Turbo×Vision 進化版—用 OpenAI Chat/Assistants API‧Function calling 設計 GPTs action‧LINE/Discord bot‧股市分析/自動助理\n",
            "Unity 遊戲設計：程式基礎、操作祕訣、製作流程、關卡設計全攻略\n",
            "ChatGPT✕Excel VBA 網路爬蟲與資料分析：使用生成式 AI 「重啟」你的 Excel 辦公室自動化\n",
            "世界第一簡單的 Python「超」入門 - 零基礎 OK！ChatGPT 隨時當助教！\n",
            "Java 教學手冊 第六版\n",
            "Python ✕ ChatGPT ✕ Excel 高效率打造辦公室作業+數據分析自動化\n",
            "Excel 儀表板與圖表設計 + Power BI 資料處理 (Excel 2019、2021適用)\n",
            "Python 資料結構×演算法 刷題鍛鍊班：234 題帶你突破 Coding 面試的難關\n",
            "超圖解 C 語言--用資料結構×演算法突破 APCS\n",
            "FLAG`S 創客‧自造者工作坊 10+ 實驗(「Arduino 超入門: 創客‧自造者的原力」書+實驗套件)\n",
            "一步到位！Python 程式設計-最強入門教科書 第三版\n",
            "Python 教學手冊\n",
            "最新 Java 程式語言 修訂第七版\n",
            "App Inventor 2 互動範例教本 Android/iOS 雙平台適用 第 5 版\n",
            "Raspberry Pi 樹莓派：Python x AI 超應用聖經\n",
            "新觀念 PHP8+MySQL+AJAX 網頁程式範例教本 第六版\n",
            "深度學習的 16 堂課：CNN + RNN + GAN + DQN + DRL, 看得懂、學得會、做得出！\n",
            "白話演算法！\n",
            "培養程式設計的邏輯思考\n",
            "Python 刷題鍛鍊班：老手都刷過的 50 道程式題, 求職面試最給力\n",
            "超圖解 ESP32 深度實作\n",
            "Python 技術者們 - 實踐！帶你一步一腳印由初學到精通 第二版\n",
            "跨領域學 Python：資料科學基礎養成\n",
            "超圖解 Arduino 互動設計入門 第四版\n",
            "新觀念 Visual C# 程式設計範例教本 第五版\n",
            "Flag's 創客‧自造者工作坊 密室逃脫：神秘寶盒 & 拆彈專家\n",
            "TensorFlow 與 Keras - Python 深度學習應用實務\n",
            "超圖解 Python 程式設計入門\n",
            "用 Python 學運算思維\n",
            "札根學習 Python 程式設計 - 176 個絕對想馬上跟著做的「超互動範例」\n",
            "Python 網路爬蟲與資料視覺化應用實務\n",
            "Flag's 創客‧自造者工作坊 AI 聊天機器人手機座\n",
            "學會 C 語言 - 從不懂，到玩上手！圖控邏輯加強版\n",
            "Ubuntu 系統管理與架站實務 第三版\n",
            "Flag's 創客‧自造者工作坊 AI × LINE 聲控/人臉辨識生活大應用\n",
            "新一代 JavaScript 程式設計精解 -《對應 ECMAScript 全新語法標準》\n",
            "從零開始！Java 程式設計入門\n",
            "從零開始！邁向數據分析 SQL 資料庫語法入門\n",
            "超圖解 Python 物聯網實作入門- 使用 ESP8266 與 MicroPython\n",
            "精通大數據！R 語言資料分析與應用 第二版\n",
            "細談資料結構 第七版\n",
            "新觀念 Microsoft Visual Basic 2017 程式設計\n",
            "Android App 程式設計教本之無痛起步- 使用 Android Studio 2.X 開發環境\n",
            "Microsoft SQL Server 2016 設計實務\n",
            "發現演算法\n",
            "從零開始! 邁向嵌入式開發 C語言程式設計入門\n",
            "ASP.NET 4.6 網頁製作徹底研究 - 使用 C#\n",
            "網頁程式設計的16堂課: HTML5、CSS3、JavaScript、jQuery、AJAX、Bootstrap Google Maps\n",
            "資料結構理論與實務- 以 Java 語言實作 第二版\n",
            "Unity 3D 遊戲設計範例講堂 - 人氣遊戲這樣做!(附DVD)\n",
            "Matlab 程式設計 第2版 (附CD)\n",
            "Java 7 教學手冊 第五版 (附CD)\n",
            "C/C++ 無痛學習教本(附CD)\n",
            "C++ 教學手冊 第三版\n",
            "Microsoft SQL Server 2008 管理實務\n",
            "C 語言教學手冊 第4版\n",
            "最新C++程式語言\n"
          ]
        }
      ]
    },
    {
      "cell_type": "markdown",
      "source": [
        "# 使用 find_element & By_ID\n",
        "\n",
        "分別找出並列印ID為toggle-search與search-form-mobile的標籤名稱。"
      ],
      "metadata": {
        "id": "EWrLeiz53Zkc"
      }
    },
    {
      "cell_type": "code",
      "source": [
        "# 這段程式碼是使用Selenium函式庫來控制Chrome瀏覽器，並從網頁中提取特定元素的文本內容。\n",
        "\n",
        "\n",
        "# 導入Selenium的webdriver模組，用於控制Chrome瀏覽器。\n",
        "from selenium import webdriver\n",
        "\n",
        "# 從Selenium函式庫的common.by模組中導入`By`，用於指定元素的定位方式。\n",
        "from selenium.webdriver.common.by import By\n",
        "\n",
        "# 建立ChromeOptions物件，這個物件用於設定Chrome瀏覽器的選項。\n",
        "chrome_options = webdriver.ChromeOptions()\n",
        "\n",
        "# 使用add_argument()方法添加--headless參數，使Chrome以headless模式運行，即在後台運行，不顯示GUI界面。\n",
        "chrome_options.add_argument('--headless')\n",
        "\n",
        "# 使用add_argument()方法添加--no-sandbox參數，這是一個必要的參數，用於解決在某些環境下的運行問題。\n",
        "chrome_options.add_argument('--no-sandbox')\n",
        "\n",
        "# 將 headless 屬性設置為 True。\n",
        "chrome_options.headless = True\n",
        "\n",
        "# 初始化Chrome WebDriver，並傳遞Chromedriver的路徑和選項。\n",
        "driver = webdriver.Chrome(options=chrome_options)\n",
        "\n",
        "# 設置隱式等待時間為10秒。隱式等待是在查找元素時的一種等待方式，\n",
        "# 如果WebDriver沒有找到元素，它會等待一定的時間再進行查找，直到超過設定的時間為止。\n",
        "driver.implicitly_wait(10)\n",
        "\n",
        "# 使用get方法訪問指定的URL，在此是\"https://www.flag.com.tw/books/school_code_n_algo\"。\n",
        "driver.get(\"https://www.flag.com.tw/books/school_code_n_algo\")\n",
        "\n",
        "# 使用find_element方法根據ID定位元素，將其儲存在form變數中。\n",
        "form = driver.find_element(By.ID, \"toggle-search\")\n",
        "\n",
        "# 列印form元素的標籤名稱。\n",
        "print(form.tag_name)\n",
        "print('---------------------------')\n",
        "\n",
        "# 使用find_element方法根據ID定位元素，將其儲存在form1變數中。\n",
        "form1 = driver.find_element(By.ID, \"search-form-mobile\")\n",
        "\n",
        "# 列印form1元素的標籤名稱。\n",
        "print(form1.tag_name)\n",
        "\n",
        "# 這個方法會關閉WebDriver並結束瀏覽器進程。這是為了確保在使用完瀏覽器後，程式可以正確地退出。\n",
        "driver.quit()"
      ],
      "metadata": {
        "colab": {
          "base_uri": "https://localhost:8080/"
        },
        "id": "KPMNMK9M3nQN",
        "outputId": "472e1207-9a48-4f69-e04b-62af7e8907c2"
      },
      "execution_count": 30,
      "outputs": [
        {
          "output_type": "stream",
          "name": "stdout",
          "text": [
            "button\n",
            "---------------------------\n",
            "form\n"
          ]
        }
      ]
    },
    {
      "cell_type": "markdown",
      "source": [
        "# 使用 find_element & By.NAME\n",
        "\n",
        "找出NAME為book_search的標籤名稱與type屬性值。"
      ],
      "metadata": {
        "id": "FRtg5EiVUMKg"
      }
    },
    {
      "cell_type": "code",
      "source": [
        "# 這段程式碼是使用Selenium函式庫來控制Chrome瀏覽器，並從網頁中提取特定元素的文本內容。\n",
        "\n",
        "\n",
        "# 導入Selenium的webdriver模組，用於控制Chrome瀏覽器。\n",
        "from selenium import webdriver\n",
        "\n",
        "# 從Selenium函式庫的common.by模組中導入`By`，用於指定元素的定位方式。\n",
        "from selenium.webdriver.common.by import By\n",
        "\n",
        "# 建立ChromeOptions物件，這個物件用於設定Chrome瀏覽器的選項。\n",
        "chrome_options = webdriver.ChromeOptions()\n",
        "\n",
        "# 使用add_argument()方法添加--headless參數，使Chrome以headless模式運行，即在後台運行，不顯示GUI界面。\n",
        "chrome_options.add_argument('--headless')\n",
        "\n",
        "# 使用add_argument()方法添加--no-sandbox參數，這是一個必要的參數，用於解決在某些環境下的運行問題。\n",
        "chrome_options.add_argument('--no-sandbox')\n",
        "\n",
        "# 將 headless 屬性設置為 True。\n",
        "chrome_options.headless = True\n",
        "\n",
        "# 初始化Chrome WebDriver，並傳遞Chromedriver的路徑和選項。\n",
        "driver = webdriver.Chrome(options=chrome_options)\n",
        "\n",
        "# 設置隱式等待時間為10秒。隱式等待是在查找元素時的一種等待方式，\n",
        "# 如果WebDriver沒有找到元素，它會等待一定的時間再進行查找，直到超過設定的時間為止。\n",
        "driver.implicitly_wait(10)\n",
        "\n",
        "# 使用get方法訪問指定的URL，在此是\"https://www.flag.com.tw/books/school_code_n_algo\"。\n",
        "driver.get(\"https://www.flag.com.tw/books/school_code_n_algo\")\n",
        "\n",
        "# 使用find_element方法根據NAME定位元素，將其儲存在user變數中。\n",
        "user = driver.find_element(By.NAME, \"book_search\")\n",
        "\n",
        "# 列印user元素的標籤名稱。\n",
        "print(user.tag_name)\n",
        "print('---------------------------')\n",
        "\n",
        "# 列印user元素的type屬性值。\n",
        "print(user.get_attribute(\"type\"))"
      ],
      "metadata": {
        "id": "RHaiZm_-UMwu",
        "colab": {
          "base_uri": "https://localhost:8080/"
        },
        "outputId": "f013f8c7-1b7e-4a5c-b11d-90b224110d3d"
      },
      "execution_count": 31,
      "outputs": [
        {
          "output_type": "stream",
          "name": "stdout",
          "text": [
            "input\n",
            "---------------------------\n",
            "search\n"
          ]
        }
      ]
    },
    {
      "cell_type": "markdown",
      "source": [
        "# 使用 find_element & By.XPATH\n",
        "\n",
        "請找出並列印\"新觀念 Visual C# 程式設計範例教本 第六版\"的標籤名稱、文本內容，以及圖片網址。"
      ],
      "metadata": {
        "id": "gcKrQ3643nv7"
      }
    },
    {
      "cell_type": "code",
      "source": [
        "# 這段程式碼是使用Selenium函式庫來控制Chrome瀏覽器，並從網頁中提取特定元素的文本內容。\n",
        "\n",
        "\n",
        "# 導入Selenium的webdriver模組，用於控制Chrome瀏覽器。\n",
        "from selenium import webdriver\n",
        "\n",
        "# 從Selenium函式庫的common.by模組中導入`By`，用於指定元素的定位方式。\n",
        "from selenium.webdriver.common.by import By\n",
        "\n",
        "# 建立ChromeOptions物件，這個物件用於設定Chrome瀏覽器的選項。\n",
        "chrome_options = webdriver.ChromeOptions()\n",
        "\n",
        "# 使用add_argument()方法添加--headless參數，使Chrome以headless模式運行，即在後台運行，不顯示GUI界面。\n",
        "chrome_options.add_argument('--headless')\n",
        "\n",
        "# 使用add_argument()方法添加--no-sandbox參數，這是一個必要的參數，用於解決在某些環境下的運行問題。\n",
        "chrome_options.add_argument('--no-sandbox')\n",
        "\n",
        "# 將 headless 屬性設置為 True。\n",
        "chrome_options.headless = True\n",
        "\n",
        "# 初始化Chrome WebDriver，並傳遞Chromedriver的路徑和選項。\n",
        "driver = webdriver.Chrome(options=chrome_options)\n",
        "\n",
        "# 設置隱式等待時間為10秒。隱式等待是在查找元素時的一種等待方式，\n",
        "# 如果WebDriver沒有找到元素，它會等待一定的時間再進行查找，直到超過設定的時間為止。\n",
        "driver.implicitly_wait(10)\n",
        "\n",
        "# 使用get方法訪問指定的URL，在此是\"https://www.flag.com.tw/books/school_code_n_algo\"。\n",
        "driver.get(\"https://www.flag.com.tw/books/school_code_n_algo\")\n",
        "\n",
        "# 使用XPath定位到第一個<form>標籤，並將其儲存在form1變數中。\n",
        "form1 = driver.find_element(By.XPATH, \"/html/body/section[2]/table/tbody/tr[1]/td[1]\")\n",
        "\n",
        "# 列印form1元素的標籤名稱。\n",
        "print(form1.tag_name)\n",
        "print('---------------------------')\n",
        "\n",
        "# 使用XPath定位到id屬性為\"loginForm\"的<form>標籤，並將其儲存在form3變數中。\n",
        "form2 = driver.find_element(By.XPATH, \"/html/body/section[2]/table/tbody/tr[1]/td[1]/a\")\n",
        "\n",
        "\n",
        "# 列印form3元素的文本內容。\n",
        "print(form2.text)\n",
        "print('---------------------------')\n",
        "\n",
        "# 使用XPath定位到第二個<input>標籤，其父級為<form>，並且name屬性為\"password\"，將其儲存在pwd1變數中。\n",
        "pwd1 = driver.find_element(By.XPATH, \"/html/body/section[2]/table/tbody/tr[1]/td[1]/a/img\")\n",
        "\n",
        "# 列印pwd1元素的圖片鏈結。\n",
        "print(pwd1.get_attribute(\"src\"))\n",
        "print('---------------------------')\n",
        "\n",
        "# 這個方法會關閉WebDriver並結束瀏覽器進程。這是為了確保在使用完瀏覽器後，程式可以正確地退出。\n",
        "driver.quit()\n"
      ],
      "metadata": {
        "id": "MBmeTsMA4AUp",
        "colab": {
          "base_uri": "https://localhost:8080/"
        },
        "outputId": "a547414f-2f26-48fb-82cd-2e611985fb46"
      },
      "execution_count": 48,
      "outputs": [
        {
          "output_type": "stream",
          "name": "stdout",
          "text": [
            "td\n",
            "---------------------------\n",
            "新觀念 Visual C# 程式設計範例教本 第六版\n",
            "---------------------------\n",
            "https://www.flag.com.tw/assets/img/bookpic/F3714.jpg\n",
            "---------------------------\n"
          ]
        }
      ]
    },
    {
      "cell_type": "markdown",
      "source": [
        "# 使用 find_element & By.LINK_TEXT\n",
        "\n",
        "請找出並列印\"世界第一簡單的 Python「超」入門 - 零基礎 OK！ChatGPT 隨時當助教！\"的網址鏈結。"
      ],
      "metadata": {
        "id": "lp3k6ky44A1f"
      }
    },
    {
      "cell_type": "code",
      "source": [
        "# 這段程式碼是使用Selenium函式庫來控制Chrome瀏覽器，並從網頁中提取特定元素的文本內容。\n",
        "\n",
        "\n",
        "# 導入Selenium的webdriver模組，用於控制Chrome瀏覽器。\n",
        "from selenium import webdriver\n",
        "\n",
        "# 從Selenium函式庫的common.by模組中導入`By`，用於指定元素的定位方式。\n",
        "from selenium.webdriver.common.by import By\n",
        "\n",
        "# 建立ChromeOptions物件，這個物件用於設定Chrome瀏覽器的選項。\n",
        "chrome_options = webdriver.ChromeOptions()\n",
        "\n",
        "# 使用add_argument()方法添加--headless參數，使Chrome以headless模式運行，即在後台運行，不顯示GUI界面。\n",
        "chrome_options.add_argument('--headless')\n",
        "\n",
        "# 使用add_argument()方法添加--no-sandbox參數，這是一個必要的參數，用於解決在某些環境下的運行問題。\n",
        "chrome_options.add_argument('--no-sandbox')\n",
        "\n",
        "# 將 headless 屬性設置為 True。\n",
        "chrome_options.headless = True\n",
        "\n",
        "# 初始化Chrome WebDriver，並傳遞Chromedriver的路徑和選項。\n",
        "driver = webdriver.Chrome(options=chrome_options)\n",
        "\n",
        "# 設置隱式等待時間為10秒。隱式等待是在查找元素時的一種等待方式，\n",
        "# 如果WebDriver沒有找到元素，它會等待一定的時間再進行查找，直到超過設定的時間為止。\n",
        "driver.implicitly_wait(10)\n",
        "\n",
        "# 使用get方法訪問指定的URL，在此是\"https://www.flag.com.tw/books/school_code_n_algo\"。\n",
        "driver.get(\"https://www.flag.com.tw/books/school_code_n_algo\")\n",
        "\n",
        "# 通過LINK_TEXT鏈接文本\"世界第一簡單的 Python「超」入門 - 零基礎 OK！ChatGPT 隨時當助教！\"定位到超鏈接元素，並將其儲存在link1變數中。\n",
        "link1 = driver.find_element(By.LINK_TEXT, \"世界第一簡單的 Python「超」入門 - 零基礎 OK！ChatGPT 隨時當助教！\")\n",
        "\n",
        "# 列印link1元素的URL。\n",
        "print(link1.get_attribute(\"href\"))\n",
        "\n",
        "# 這個方法會關閉WebDriver並結束瀏覽器進程。這是為了確保在使用完瀏覽器後，程式可以正確地退出。\n",
        "driver.quit()"
      ],
      "metadata": {
        "id": "DRaE41CN4Nmg",
        "colab": {
          "base_uri": "https://localhost:8080/"
        },
        "outputId": "724eceb1-3570-4303-c789-9f0d1f276cb9"
      },
      "execution_count": 40,
      "outputs": [
        {
          "output_type": "stream",
          "name": "stdout",
          "text": [
            "https://www.flag.com.tw/books/product_s/F3768\n"
          ]
        }
      ]
    },
    {
      "cell_type": "markdown",
      "source": [
        "# 使用 find_element & By.PARTIAL_LINK_TEXT\n",
        "\n",
        "請找出並列印部分文字為\"高效率打造辦公室作業\"的網址鏈結。"
      ],
      "metadata": {
        "id": "aBnS7AeR4OTb"
      }
    },
    {
      "cell_type": "code",
      "source": [
        "# 這段程式碼是使用Selenium函式庫來控制Chrome瀏覽器，並從網頁中提取特定元素的文本內容。\n",
        "\n",
        "\n",
        "# 導入Selenium的webdriver模組，用於控制Chrome瀏覽器。\n",
        "from selenium import webdriver\n",
        "\n",
        "# 從Selenium函式庫的common.by模組中導入`By`，用於指定元素的定位方式。\n",
        "from selenium.webdriver.common.by import By\n",
        "\n",
        "# 建立ChromeOptions物件，這個物件用於設定Chrome瀏覽器的選項。\n",
        "chrome_options = webdriver.ChromeOptions()\n",
        "\n",
        "# 使用add_argument()方法添加--headless參數，使Chrome以headless模式運行，即在後台運行，不顯示GUI界面。\n",
        "chrome_options.add_argument('--headless')\n",
        "\n",
        "# 使用add_argument()方法添加--no-sandbox參數，這是一個必要的參數，用於解決在某些環境下的運行問題。\n",
        "chrome_options.add_argument('--no-sandbox')\n",
        "\n",
        "# 將 headless 屬性設置為 True。\n",
        "chrome_options.headless = True\n",
        "\n",
        "# 初始化Chrome WebDriver，並傳遞Chromedriver的路徑和選項。\n",
        "driver = webdriver.Chrome(options=chrome_options)\n",
        "\n",
        "# 設置隱式等待時間為10秒。隱式等待是在查找元素時的一種等待方式，\n",
        "# 如果WebDriver沒有找到元素，它會等待一定的時間再進行查找，直到超過設定的時間為止。\n",
        "driver.implicitly_wait(10)\n",
        "\n",
        "# 使用get方法訪問指定的URL，在此是\"https://www.flag.com.tw/books/school_code_n_algo\"。\n",
        "driver.get(\"https://www.flag.com.tw/books/school_code_n_algo\")\n",
        "\n",
        "# 通過PARTIAL_LINK_TEXT鏈接文本\"高效率打造辦公室作業念\"定位到超鏈接元素，並將其儲存在link1變數中。\n",
        "link1 = driver.find_element(By.PARTIAL_LINK_TEXT, \"高效率打造辦公室作業\")\n",
        "\n",
        "# 列印link1元素的URL。\n",
        "print(link1.get_attribute(\"href\"))\n",
        "\n",
        "# 這個方法會關閉WebDriver並結束瀏覽器進程。這是為了確保在使用完瀏覽器後，程式可以正確地退出。\n",
        "driver.quit()"
      ],
      "metadata": {
        "id": "wYYQjaeI4Yvp",
        "colab": {
          "base_uri": "https://localhost:8080/"
        },
        "outputId": "c1f155f7-5e32-4f86-cd6a-e76b4dbf0efa"
      },
      "execution_count": 41,
      "outputs": [
        {
          "output_type": "stream",
          "name": "stdout",
          "text": [
            "https://www.flag.com.tw/books/product_s/F3034\n"
          ]
        }
      ]
    },
    {
      "cell_type": "markdown",
      "source": [
        "# 使用 find_element & By.CSS_SELECTOR"
      ],
      "metadata": {
        "id": "ME6cPIJK4s7l"
      }
    },
    {
      "cell_type": "code",
      "source": [
        "# 這段程式碼是使用Selenium函式庫來控制Chrome瀏覽器，並從網頁中提取特定元素的文本內容。\n",
        "\n",
        "\n",
        "# 導入Selenium的webdriver模組，用於控制Chrome瀏覽器。\n",
        "from selenium import webdriver\n",
        "\n",
        "# 從Selenium函式庫的common.by模組中導入`By`，用於指定元素的定位方式。\n",
        "from selenium.webdriver.common.by import By\n",
        "\n",
        "# 建立ChromeOptions物件，這個物件用於設定Chrome瀏覽器的選項。\n",
        "chrome_options = webdriver.ChromeOptions()\n",
        "\n",
        "# 使用add_argument()方法添加--headless參數，使Chrome以headless模式運行，即在後台運行，不顯示GUI界面。\n",
        "chrome_options.add_argument('--headless')\n",
        "\n",
        "# 使用add_argument()方法添加--no-sandbox參數，這是一個必要的參數，用於解決在某些環境下的運行問題。\n",
        "chrome_options.add_argument('--no-sandbox')\n",
        "\n",
        "# 將 headless 屬性設置為 True。\n",
        "chrome_options.headless = True\n",
        "\n",
        "# 初始化Chrome WebDriver，並傳遞Chromedriver的路徑和選項。\n",
        "driver = webdriver.Chrome(options=chrome_options)\n",
        "\n",
        "# 設置隱式等待時間為10秒。隱式等待是在查找元素時的一種等待方式，\n",
        "# 如果WebDriver沒有找到元素，它會等待一定的時間再進行查找，直到超過設定的時間為止。\n",
        "driver.implicitly_wait(10)\n",
        "\n",
        "# 使用get方法訪問指定的URL，在此是\"https://www.flag.com.tw/books/school_code_n_algo\"。\n",
        "driver.get(\"https://www.flag.com.tw/books/school_code_n_algo\")\n",
        "\n",
        "# 使用find_element方法通過CSS選擇器，尋找所有<section>標籤中帶有class屬性值為\"allbooks\"的元素。\n",
        "# By.CSS_SELECTOR是指定使用CSS選擇器來定位元素。\n",
        "# 目的是找到網頁中第一個具有class為\"allbooks\"的<section>標籤元素，並將其賦值給變數content。\n",
        "content = driver.find_element(By.CSS_SELECTOR,\"section.allbooks\")\n",
        "\n",
        "# 列印content元素的文本內容。\n",
        "print(content.text)\n",
        "\n",
        "# 這個方法會關閉WebDriver並結束瀏覽器進程。這是為了確保在使用完瀏覽器後，程式可以正確地退出。\n",
        "driver.quit()\n"
      ],
      "metadata": {
        "id": "hTpQmW254xlt",
        "colab": {
          "base_uri": "https://localhost:8080/"
        },
        "outputId": "ce4b7640-741e-43d1-8f7d-5c58660c4e0c"
      },
      "execution_count": 42,
      "outputs": [
        {
          "output_type": "stream",
          "name": "stdout",
          "text": [
            "程式設計與演算法\n",
            "新觀念 Visual C# 程式設計範例教本 第六版\n",
            "ChatGPT 開發手冊 Turbo×Vision 進化版—用 OpenAI Chat/Assistants API‧Function calling 設計 GPTs action‧LINE/Discord bot‧股市分析/自動助理\n",
            "Unity 遊戲設計：程式基礎、操作祕訣、製作流程、關卡設計全攻略\n",
            "ChatGPT✕Excel VBA 網路爬蟲與資料分析：使用生成式 AI 「重啟」你的 Excel 辦公室自動化\n",
            "世界第一簡單的 Python「超」入門 - 零基礎 OK！ChatGPT 隨時當助教！\n",
            "Java 教學手冊 第六版\n",
            "Python ✕ ChatGPT ✕ Excel 高效率打造辦公室作業+數據分析自動化\n",
            "Excel 儀表板與圖表設計 + Power BI 資料處理 (Excel 2019、2021適用)\n",
            "Python 資料結構×演算法 刷題鍛鍊班：234 題帶你突破 Coding 面試的難關\n",
            "超圖解 C 語言--用資料結構×演算法突破 APCS\n",
            "FLAG`S 創客‧自造者工作坊 10+ 實驗(「Arduino 超入門: 創客‧自造者的原力」書+實驗套件)\n",
            "一步到位！Python 程式設計-最強入門教科書 第三版\n",
            "Python 教學手冊\n",
            "最新 Java 程式語言 修訂第七版\n",
            "App Inventor 2 互動範例教本 Android/iOS 雙平台適用 第 5 版\n",
            "Raspberry Pi 樹莓派：Python x AI 超應用聖經\n",
            "新觀念 PHP8+MySQL+AJAX 網頁程式範例教本 第六版\n",
            "深度學習的 16 堂課：CNN + RNN + GAN + DQN + DRL, 看得懂、學得會、做得出！\n",
            "白話演算法！\n",
            "培養程式設計的邏輯思考\n",
            "Python 刷題鍛鍊班：老手都刷過的 50 道程式題, 求職面試最給力\n",
            "超圖解 ESP32 深度實作\n",
            "Python 技術者們 - 實踐！帶你一步一腳印由初學到精通 第二版\n",
            "跨領域學 Python：資料科學基礎養成\n",
            "超圖解 Arduino 互動設計入門 第四版\n",
            "新觀念 Visual C# 程式設計範例教本 第五版\n",
            "Flag's 創客‧自造者工作坊 密室逃脫：神秘寶盒 & 拆彈專家\n",
            "TensorFlow 與 Keras - Python 深度學習應用實務\n",
            "超圖解 Python 程式設計入門\n",
            "用 Python 學運算思維\n",
            "札根學習 Python 程式設計 - 176 個絕對想馬上跟著做的「超互動範例」\n",
            "Python 網路爬蟲與資料視覺化應用實務\n",
            "Flag's 創客‧自造者工作坊 AI 聊天機器人手機座\n",
            "學會 C 語言 - 從不懂，到玩上手！圖控邏輯加強版\n",
            "Ubuntu 系統管理與架站實務 第三版\n",
            "Flag's 創客‧自造者工作坊 AI × LINE 聲控/人臉辨識生活大應用\n",
            "新一代 JavaScript 程式設計精解 -《對應 ECMAScript 全新語法標準》\n",
            "從零開始！Java 程式設計入門\n",
            "從零開始！邁向數據分析 SQL 資料庫語法入門\n",
            "超圖解 Python 物聯網實作入門- 使用 ESP8266 與 MicroPython\n",
            "精通大數據！R 語言資料分析與應用 第二版\n",
            "細談資料結構 第七版\n",
            "新觀念 Microsoft Visual Basic 2017 程式設計\n",
            "Android App 程式設計教本之無痛起步- 使用 Android Studio 2.X 開發環境\n",
            "Microsoft SQL Server 2016 設計實務\n",
            "發現演算法\n",
            "從零開始! 邁向嵌入式開發 C語言程式設計入門\n",
            "ASP.NET 4.6 網頁製作徹底研究 - 使用 C#\n",
            "網頁程式設計的16堂課: HTML5、CSS3、JavaScript、jQuery、AJAX、Bootstrap Google Maps\n",
            "資料結構理論與實務- 以 Java 語言實作 第二版\n",
            "Unity 3D 遊戲設計範例講堂 - 人氣遊戲這樣做!(附DVD)\n",
            "Matlab 程式設計 第2版 (附CD)\n",
            "Java 7 教學手冊 第五版 (附CD)\n",
            "C/C++ 無痛學習教本(附CD)\n",
            "C++ 教學手冊 第三版\n",
            "Microsoft SQL Server 2008 管理實務\n",
            "C 語言教學手冊 第4版\n",
            "最新C++程式語言\n"
          ]
        }
      ]
    }
  ]
}